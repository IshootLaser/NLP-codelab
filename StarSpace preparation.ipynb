{
 "cells": [
  {
   "cell_type": "code",
   "execution_count": 2,
   "metadata": {},
   "outputs": [],
   "source": [
    "import numpy as np\n",
    "import pandas as pd\n",
    "import pickle\n",
    "import re\n",
    "from sklearn.feature_extraction.text import TfidfVectorizer\n",
    "from sklearn.model_selection import train_test_split\n",
    "from sklearn.metrics import accuracy_score\n",
    "import nltk\n",
    "try:\n",
    "    from nltk.corpus import stopwords\n",
    "except:\n",
    "    nltk.download('stopwords')\n",
    "    \n",
    "from tqdm import tqdm_notebook\n",
    "\n",
    "import tensorflow as tf"
   ]
  },
  {
   "cell_type": "code",
   "execution_count": 3,
   "metadata": {},
   "outputs": [],
   "source": [
    "def text_prepare(text):\n",
    "    \"\"\"Performs tokenization and simple preprocessing.\"\"\"\n",
    "    \n",
    "    replace_by_space_re = re.compile('[/(){}\\[\\]\\|@,;]')\n",
    "    bad_symbols_re = re.compile('[^0-9a-z #+_]')\n",
    "    stopwords_set = set(stopwords.words('english'))\n",
    "\n",
    "    text = text.lower()\n",
    "    text = replace_by_space_re.sub(' ', text)\n",
    "    text = bad_symbols_re.sub('', text)\n",
    "    text = ' '.join([x for x in text.split() if x and x not in stopwords_set])\n",
    "    \n",
    "    tokenizer = nltk.tokenize.TreebankWordTokenizer()\n",
    "    tokens = tokenizer.tokenize(text.strip())\n",
    "    \n",
    "    stemmer = nltk.stem.PorterStemmer()\n",
    "    return ' '.join(stemmer.stem(token) for token in tokens)"
   ]
  },
  {
   "cell_type": "code",
   "execution_count": 4,
   "metadata": {},
   "outputs": [
    {
     "data": {
      "text/html": [
       "<div>\n",
       "<style scoped>\n",
       "    .dataframe tbody tr th:only-of-type {\n",
       "        vertical-align: middle;\n",
       "    }\n",
       "\n",
       "    .dataframe tbody tr th {\n",
       "        vertical-align: top;\n",
       "    }\n",
       "\n",
       "    .dataframe thead th {\n",
       "        text-align: right;\n",
       "    }\n",
       "</style>\n",
       "<table border=\"1\" class=\"dataframe\">\n",
       "  <thead>\n",
       "    <tr style=\"text-align: right;\">\n",
       "      <th></th>\n",
       "      <th>post_id</th>\n",
       "      <th>title</th>\n",
       "      <th>tag</th>\n",
       "    </tr>\n",
       "  </thead>\n",
       "  <tbody>\n",
       "    <tr>\n",
       "      <th>2168983</th>\n",
       "      <td>43837842</td>\n",
       "      <td>effici algorithm compos valid express specif t...</td>\n",
       "      <td>python</td>\n",
       "    </tr>\n",
       "    <tr>\n",
       "      <th>1084095</th>\n",
       "      <td>15747223</td>\n",
       "      <td>basic thread program fail clang pass g++</td>\n",
       "      <td>c_cpp</td>\n",
       "    </tr>\n",
       "    <tr>\n",
       "      <th>1049020</th>\n",
       "      <td>15189594</td>\n",
       "      <td>link scroll top work</td>\n",
       "      <td>javascript</td>\n",
       "    </tr>\n",
       "    <tr>\n",
       "      <th>200466</th>\n",
       "      <td>3273927</td>\n",
       "      <td>possibl implement ping window phone 7</td>\n",
       "      <td>c#</td>\n",
       "    </tr>\n",
       "    <tr>\n",
       "      <th>1200249</th>\n",
       "      <td>17684551</td>\n",
       "      <td>glsl normal map issu</td>\n",
       "      <td>c_cpp</td>\n",
       "    </tr>\n",
       "  </tbody>\n",
       "</table>\n",
       "</div>"
      ],
      "text/plain": [
       "          post_id                                              title  \\\n",
       "2168983  43837842  effici algorithm compos valid express specif t...   \n",
       "1084095  15747223           basic thread program fail clang pass g++   \n",
       "1049020  15189594                               link scroll top work   \n",
       "200466    3273927              possibl implement ping window phone 7   \n",
       "1200249  17684551                               glsl normal map issu   \n",
       "\n",
       "                tag  \n",
       "2168983      python  \n",
       "1084095       c_cpp  \n",
       "1049020  javascript  \n",
       "200466           c#  \n",
       "1200249       c_cpp  "
      ]
     },
     "execution_count": 4,
     "metadata": {},
     "output_type": "execute_result"
    }
   ],
   "source": [
    "sample_size = 200000\n",
    "stackoverflow_df = pd.read_csv('./data/tagged_posts.tsv', sep='\\t').sample(sample_size, random_state=0)\n",
    "stackoverflow_df['title'] = stackoverflow_df['title'].apply(text_prepare)\n",
    "stackoverflow_df.head()"
   ]
  },
  {
   "cell_type": "code",
   "execution_count": 5,
   "metadata": {},
   "outputs": [],
   "source": [
    "def prepare_file(df, out_):\n",
    "    out = open(out_, 'w')\n",
    "    for line, tag in tqdm_notebook(zip(df['title'], df['tag'])):\n",
    "        line = line.strip().replace(' ', '\\t')\n",
    "        out.write(line + '\\t__label__{}\\r\\n'.format(tag))\n",
    "        \n",
    "    out.close()"
   ]
  },
  {
   "cell_type": "code",
   "execution_count": 6,
   "metadata": {},
   "outputs": [
    {
     "data": {
      "application/vnd.jupyter.widget-view+json": {
       "model_id": "9fb40177b3ec4723b5252037bc836942",
       "version_major": 2,
       "version_minor": 0
      },
      "text/html": [
       "<p>Failed to display Jupyter Widget of type <code>HBox</code>.</p>\n",
       "<p>\n",
       "  If you're reading this message in Jupyter Notebook or JupyterLab, it may mean\n",
       "  that the widgets JavaScript is still loading. If this message persists, it\n",
       "  likely means that the widgets JavaScript library is either not installed or\n",
       "  not enabled. See the <a href=\"https://ipywidgets.readthedocs.io/en/stable/user_install.html\">Jupyter\n",
       "  Widgets Documentation</a> for setup instructions.\n",
       "</p>\n",
       "<p>\n",
       "  If you're reading this message in another notebook frontend (for example, a static\n",
       "  rendering on GitHub or <a href=\"https://nbviewer.jupyter.org/\">NBViewer</a>),\n",
       "  it may mean that your frontend doesn't currently support widgets.\n",
       "</p>\n"
      ],
      "text/plain": [
       "HBox(children=(IntProgress(value=1, bar_style='info', max=1), HTML(value='')))"
      ]
     },
     "metadata": {},
     "output_type": "display_data"
    },
    {
     "name": "stdout",
     "output_type": "stream",
     "text": [
      "\n"
     ]
    }
   ],
   "source": [
    "prepare_file(stackoverflow_df, './data/tagged_posts_stemmed.tsv')"
   ]
  },
  {
   "cell_type": "code",
   "execution_count": 12,
   "metadata": {
    "scrolled": true
   },
   "outputs": [
    {
     "name": "stdout",
     "output_type": "stream",
     "text": [
      "Arguments: \n",
      "lr: 0.05\n",
      "dim: 100\n",
      "epoch: 5\n",
      "maxTrainTime: 8640000\n",
      "saveEveryEpoch: 0\n",
      "loss: hinge\n",
      "margin: 0.05\n",
      "similarity: cosine\n",
      "maxNegSamples: 10\n",
      "negSearchLimit: 10\n",
      "thread: 10\n",
      "minCount: 2\n",
      "minCountLabel: 1\n",
      "label: __label__\n",
      "ngrams: 1\n",
      "bucket: 2000000\n",
      "adagrad: 1\n",
      "trainMode: 0\n",
      "fileFormat: fastText\n",
      "normalizeText: 0\n",
      "dropoutLHS: 0\n",
      "dropoutRHS: 0\n",
      "Start to initialize starspace model.\n",
      "Build dict from input file : ./data/tagged_posts_stemmed.tsv\n",
      "Read 1M words\n",
      "Number of words in dictionary:  14925\n",
      "Number of labels in dictionary: 10\n",
      "Loading data from file : ./data/tagged_posts_stemmed.tsv\n",
      "Total number of examples loaded : 199884\n",
      "Initialized model weights. Model size :\n",
      "matrix : 14935 100\n",
      "Training epoch 0: 0.05 0.01\n",
      "Epoch: 100.0%  lr: 0.040000  loss: 0.022949  eta: 0h1m  tot: 0h0m23s  (20.0%)1%  lr: 0.050000  loss: 0.113522  eta: <1min   tot: 0h0m0s  (0.6%)3.6%  lr: 0.049950  loss: 0.107749  eta: <1min   tot: 0h0m0s  (0.7%)4.0%  lr: 0.049899  loss: 0.102146  eta: <1min   tot: 0h0m0s  (0.8%)5.8%  lr: 0.049749  loss: 0.085891  eta: 0h1m  tot: 0h0m0s  (1.2%)6.3%  lr: 0.049648  loss: 0.082189  eta: 0h1m  tot: 0h0m0s  (1.3%)6.7%  lr: 0.049648  loss: 0.079937  eta: 0h1m  tot: 0h0m1s  (1.3%)%  lr: 0.049447  loss: 0.067247  eta: 0h1m  tot: 0h0m1s  (1.9%)10.4%  lr: 0.049347  loss: 0.064139  eta: 0h1m  tot: 0h0m1s  (2.1%)14.0%  lr: 0.048995  loss: 0.056113  eta: 0h1m  tot: 0h0m2s  (2.8%)17.1%  lr: 0.048593  loss: 0.050699  eta: 0h1m  tot: 0h0m3s  (3.4%)19.8%  lr: 0.048492  loss: 0.047082  eta: 0h1m  tot: 0h0m4s  (4.0%)20.7%  lr: 0.048442  loss: 0.046148  eta: 0h1m  tot: 0h0m4s  (4.1%)24.8%  lr: 0.047940  loss: 0.042433  eta: 0h1m  tot: 0h0m5s  (5.0%)26.6%  lr: 0.047688  loss: 0.040825  eta: 0h1m  tot: 0h0m5s  (5.3%)27.5%  lr: 0.047638  loss: 0.040327  eta: 0h1m  tot: 0h0m6s  (5.5%)28.8%  lr: 0.047588  loss: 0.039254  eta: 0h1m  tot: 0h0m6s  (5.8%)29.7%  lr: 0.047487  loss: 0.039022  eta: 0h1m  tot: 0h0m6s  (5.9%)33.3%  lr: 0.047085  loss: 0.037113  eta: 0h1m  tot: 0h0m7s  (6.7%)34.7%  lr: 0.046935  loss: 0.036281  eta: 0h1m  tot: 0h0m7s  (6.9%)39.2%  lr: 0.046482  loss: 0.034306  eta: 0h1m  tot: 0h0m8s  (7.8%)41.0%  lr: 0.046382  loss: 0.033612  eta: 0h1m  tot: 0h0m9s  (8.2%)41.4%  lr: 0.046332  loss: 0.033503  eta: 0h1m  tot: 0h0m9s  (8.3%)44.1%  lr: 0.046030  loss: 0.032712  eta: 0h1m  tot: 0h0m9s  (8.8%)45.0%  lr: 0.045980  loss: 0.032390  eta: 0h1m  tot: 0h0m10s  (9.0%)45.5%  lr: 0.045930  loss: 0.032188  eta: 0h1m  tot: 0h0m10s  (9.1%)45.9%  lr: 0.045930  loss: 0.031966  eta: 0h1m  tot: 0h0m10s  (9.2%)46.8%  lr: 0.045879  loss: 0.031630  eta: 0h1m  tot: 0h0m10s  (9.4%)49.5%  lr: 0.045628  loss: 0.030968  eta: 0h1m  tot: 0h0m11s  (9.9%)50.4%  lr: 0.045427  loss: 0.030673  eta: 0h1m  tot: 0h0m11s  (10.1%)50.9%  lr: 0.045427  loss: 0.030561  eta: 0h1m  tot: 0h0m11s  (10.2%)51.3%  lr: 0.045427  loss: 0.030400  eta: 0h1m  tot: 0h0m11s  (10.3%)51.8%  lr: 0.045377  loss: 0.030234  eta: 0h1m  tot: 0h0m11s  (10.4%)53.6%  lr: 0.045126  loss: 0.029920  eta: 0h1m  tot: 0h0m12s  (10.7%)57.2%  lr: 0.044874  loss: 0.029099  eta: 0h1m  tot: 0h0m13s  (11.4%)58.1%  lr: 0.044774  loss: 0.028863  eta: 0h1m  tot: 0h0m13s  (11.6%)61.2%  lr: 0.044472  loss: 0.028228  eta: 0h1m  tot: 0h0m13s  (12.2%)62.1%  lr: 0.044372  loss: 0.028036  eta: 0h1m  tot: 0h0m14s  (12.4%)62.6%  lr: 0.044221  loss: 0.027917  eta: 0h1m  tot: 0h0m14s  (12.5%)64.4%  lr: 0.044070  loss: 0.027561  eta: 0h1m  tot: 0h0m14s  (12.9%)64.8%  lr: 0.043970  loss: 0.027497  eta: 0h1m  tot: 0h0m14s  (13.0%)67.5%  lr: 0.043819  loss: 0.026962  eta: 0h1m  tot: 0h0m15s  (13.5%)68.9%  lr: 0.043668  loss: 0.026773  eta: 0h1m  tot: 0h0m15s  (13.8%)69.3%  lr: 0.043568  loss: 0.026688  eta: 0h1m  tot: 0h0m15s  (13.9%)70.2%  lr: 0.043266  loss: 0.026522  eta: 0h1m  tot: 0h0m16s  (14.0%)70.7%  lr: 0.043216  loss: 0.026451  eta: 0h1m  tot: 0h0m16s  (14.1%)72.5%  lr: 0.043116  loss: 0.026164  eta: 0h1m  tot: 0h0m16s  (14.5%)73.4%  lr: 0.043065  loss: 0.026035  eta: 0h1m  tot: 0h0m16s  (14.7%)74.3%  lr: 0.043065  loss: 0.025920  eta: 0h1m  tot: 0h0m17s  (14.9%)75.2%  lr: 0.042864  loss: 0.025783  eta: 0h1m  tot: 0h0m17s  (15.0%)75.6%  lr: 0.042864  loss: 0.025688  eta: 0h1m  tot: 0h0m17s  (15.1%)%  lr: 0.042412  loss: 0.025221  eta: 0h1m  tot: 0h0m18s  (15.8%)79.7%  lr: 0.042412  loss: 0.025161  eta: 0h1m  tot: 0h0m18s  (15.9%)85.5%  lr: 0.041508  loss: 0.024457  eta: 0h1m  tot: 0h0m19s  (17.1%)86.0%  lr: 0.041457  loss: 0.024409  eta: 0h1m  tot: 0h0m19s  (17.2%)86.4%  lr: 0.041457  loss: 0.024366  eta: 0h1m  tot: 0h0m19s  (17.3%)87.3%  lr: 0.041206  loss: 0.024292  eta: 0h1m  tot: 0h0m20s  (17.5%)92.8%  lr: 0.040553  loss: 0.023709  eta: 0h1m  tot: 0h0m21s  (18.6%)94.1%  lr: 0.040402  loss: 0.023590  eta: 0h1m  tot: 0h0m21s  (18.8%)97.3%  lr: 0.040151  loss: 0.023183  eta: 0h1m  tot: 0h0m22s  (19.5%)98.6%  lr: 0.040050  loss: 0.023074  eta: 0h1m  tot: 0h0m22s  (19.7%)\n",
      " ---+++                Epoch    0 Train error : 0.02070603 +++--- ���\n",
      "Training epoch 1: 0.04 0.01\n",
      "Epoch: 100.0%  lr: 0.030000  loss: 0.010425  eta: 0h1m  tot: 0h0m49s  (40.0%)3%  lr: 0.039849  loss: 0.010370  eta: 0h1m  tot: 0h0m23s  (20.3%)2.2%  lr: 0.039799  loss: 0.010475  eta: 0h1m  tot: 0h0m23s  (20.4%)4.0%  lr: 0.039598  loss: 0.011421  eta: 0h1m  tot: 0h0m24s  (20.8%)6.7%  lr: 0.039347  loss: 0.010642  eta: 0h1m  tot: 0h0m24s  (21.3%)9.9%  lr: 0.039045  loss: 0.010662  eta: 0h1m  tot: 0h0m25s  (22.0%)10.8%  lr: 0.038995  loss: 0.010558  eta: 0h1m  tot: 0h0m25s  (22.2%)12.2%  lr: 0.038844  loss: 0.010280  eta: 0h1m  tot: 0h0m26s  (22.4%)14.0%  lr: 0.038693  loss: 0.010375  eta: 0h1m  tot: 0h0m26s  (22.8%)14.4%  lr: 0.038693  loss: 0.010394  eta: 0h1m  tot: 0h0m26s  (22.9%)17.1%  lr: 0.038442  loss: 0.010513  eta: 0h1m  tot: 0h0m27s  (23.4%)17.6%  lr: 0.038342  loss: 0.010599  eta: 0h1m  tot: 0h0m27s  (23.5%)18.5%  lr: 0.038241  loss: 0.010538  eta: 0h1m  tot: 0h0m27s  (23.7%)20.7%  lr: 0.038090  loss: 0.010690  eta: 0h1m  tot: 0h0m28s  (24.1%)21.2%  lr: 0.038040  loss: 0.010700  eta: 0h1m  tot: 0h0m28s  (24.2%)22.5%  lr: 0.037990  loss: 0.010794  eta: 0h1m  tot: 0h0m28s  (24.5%)23.0%  lr: 0.037940  loss: 0.010766  eta: 0h1m  tot: 0h0m28s  (24.6%)23.9%  lr: 0.037839  loss: 0.010695  eta: 0h1m  tot: 0h0m28s  (24.8%)24.8%  lr: 0.037688  loss: 0.010851  eta: 0h1m  tot: 0h0m29s  (25.0%)25.7%  lr: 0.037487  loss: 0.010788  eta: 0h1m  tot: 0h0m29s  (25.1%)26.1%  lr: 0.037387  loss: 0.010700  eta: 0h1m  tot: 0h0m29s  (25.2%)26.6%  lr: 0.037387  loss: 0.010648  eta: 0h1m  tot: 0h0m29s  (25.3%)27.0%  lr: 0.037337  loss: 0.010631  eta: 0h1m  tot: 0h0m29s  (25.4%)27.5%  lr: 0.037236  loss: 0.010567  eta: 0h1m  tot: 0h0m29s  (25.5%)27.9%  lr: 0.037186  loss: 0.010484  eta: 0h1m  tot: 0h0m29s  (25.6%)28.8%  lr: 0.037085  loss: 0.010582  eta: 0h1m  tot: 0h0m30s  (25.8%)29.3%  lr: 0.037035  loss: 0.010641  eta: 0h1m  tot: 0h0m30s  (25.9%)29.7%  lr: 0.036935  loss: 0.010681  eta: 0h1m  tot: 0h0m30s  (25.9%)32.4%  lr: 0.036784  loss: 0.010855  eta: 0h1m  tot: 0h0m30s  (26.5%)32.9%  lr: 0.036734  loss: 0.010872  eta: 0h1m  tot: 0h0m31s  (26.6%)33.3%  lr: 0.036734  loss: 0.010833  eta: 0h1m  tot: 0h0m31s  (26.7%)35.1%  lr: 0.036583  loss: 0.010782  eta: 0h1m  tot: 0h0m31s  (27.0%)39.6%  lr: 0.036030  loss: 0.010555  eta: 0h1m  tot: 0h0m32s  (27.9%)40.1%  lr: 0.036030  loss: 0.010625  eta: 0h1m  tot: 0h0m32s  (28.0%)41.0%  lr: 0.035980  loss: 0.010587  eta: 0h1m  tot: 0h0m32s  (28.2%)41.4%  lr: 0.035779  loss: 0.010557  eta: 0h1m  tot: 0h0m33s  (28.3%)41.9%  lr: 0.035779  loss: 0.010602  eta: 0h1m  tot: 0h0m33s  (28.4%)43.7%  lr: 0.035528  loss: 0.010529  eta: 0h1m  tot: 0h0m33s  (28.7%)44.1%  lr: 0.035477  loss: 0.010610  eta: 0h1m  tot: 0h0m33s  (28.8%)44.6%  lr: 0.035327  loss: 0.010647  eta: 0h1m  tot: 0h0m33s  (28.9%)45.5%  lr: 0.035327  loss: 0.010578  eta: 0h1m  tot: 0h0m34s  (29.1%)45.9%  lr: 0.035276  loss: 0.010520  eta: 0h1m  tot: 0h0m34s  (29.2%)46.4%  lr: 0.035276  loss: 0.010523  eta: 0h1m  tot: 0h0m34s  (29.3%)48.6%  lr: 0.034925  loss: 0.010509  eta: 0h1m  tot: 0h0m34s  (29.7%)49.5%  lr: 0.034874  loss: 0.010424  eta: 0h1m  tot: 0h0m34s  (29.9%)50.0%  lr: 0.034874  loss: 0.010419  eta: 0h1m  tot: 0h0m35s  (30.0%)54.0%  lr: 0.034623  loss: 0.010389  eta: 0h1m  tot: 0h0m36s  (30.8%)57.6%  lr: 0.034271  loss: 0.010443  eta: 0h1m  tot: 0h0m37s  (31.5%)58.5%  lr: 0.034221  loss: 0.010434  eta: 0h1m  tot: 0h0m37s  (31.7%)60.8%  lr: 0.034020  loss: 0.010481  eta: 0h1m  tot: 0h0m38s  (32.2%)61.2%  lr: 0.033970  loss: 0.010495  eta: 0h1m  tot: 0h0m38s  (32.2%)61.7%  lr: 0.033920  loss: 0.010496  eta: 0h1m  tot: 0h0m38s  (32.3%)62.1%  lr: 0.033920  loss: 0.010493  eta: 0h1m  tot: 0h0m38s  (32.4%)63.0%  lr: 0.033869  loss: 0.010536  eta: 0h1m  tot: 0h0m39s  (32.6%)63.5%  lr: 0.033869  loss: 0.010550  eta: 0h1m  tot: 0h0m39s  (32.7%)64.8%  lr: 0.033769  loss: 0.010506  eta: 0h1m  tot: 0h0m39s  (33.0%)%  lr: 0.033568  loss: 0.010560  eta: 0h1m  tot: 0h0m40s  (33.5%)68.0%  lr: 0.033568  loss: 0.010530  eta: 0h1m  tot: 0h0m40s  (33.6%)69.8%  lr: 0.033116  loss: 0.010492  eta: 0h1m  tot: 0h0m41s  (34.0%)71.1%  lr: 0.033015  loss: 0.010456  eta: 0h1m  tot: 0h0m41s  (34.2%)72.0%  lr: 0.032915  loss: 0.010470  eta: 0h1m  tot: 0h0m41s  (34.4%)72.5%  lr: 0.032864  loss: 0.010480  eta: 0h1m  tot: 0h0m41s  (34.5%)75.2%  lr: 0.032563  loss: 0.010428  eta: 0h1m  tot: 0h0m42s  (35.0%)76.1%  lr: 0.032462  loss: 0.010446  eta: 0h1m  tot: 0h0m42s  (35.2%)76.5%  lr: 0.032412  loss: 0.010452  eta: 0h1m  tot: 0h0m43s  (35.3%)77.0%  lr: 0.032412  loss: 0.010440  eta: 0h1m  tot: 0h0m43s  (35.4%)80.1%  lr: 0.031859  loss: 0.010354  eta: 0h1m  tot: 0h0m44s  (36.0%)81.0%  lr: 0.031759  loss: 0.010355  eta: 0h1m  tot: 0h0m44s  (36.2%)83.3%  lr: 0.031608  loss: 0.010402  eta: 0h1m  tot: 0h0m45s  (36.7%)84.2%  lr: 0.031608  loss: 0.010410  eta: 0h1m  tot: 0h0m45s  (36.8%)85.5%  lr: 0.031407  loss: 0.010416  eta: 0h1m  tot: 0h0m46s  (37.1%)%  lr: 0.031407  loss: 0.010398  eta: 0h1m  tot: 0h0m46s  (37.2%)89.1%  lr: 0.031206  loss: 0.010358  eta: 0h1m  tot: 0h0m47s  (37.8%)90.0%  lr: 0.031005  loss: 0.010350  eta: 0h1m  tot: 0h0m47s  (38.0%)  lr: 0.030955  loss: 0.010346  eta: 0h1m  tot: 0h0m47s  (38.3%)92.3%  lr: 0.030854  loss: 0.010345  eta: 0h1m  tot: 0h0m47s  (38.5%)92.8%  lr: 0.030754  loss: 0.010336  eta: 0h1m  tot: 0h0m48s  (38.6%)93.2%  lr: 0.030754  loss: 0.010338  eta: 0h1m  tot: 0h0m48s  (38.6%)\n",
      " ---+++                Epoch    1 Train error : 0.01044823 +++--- ���\n",
      "Training epoch 2: 0.03 0.01\n"
     ]
    },
    {
     "name": "stdout",
     "output_type": "stream",
     "text": [
      "Epoch: 100.0%  lr: 0.020000  loss: 0.008753  eta: <1min   tot: 0h1m14s  (60.0%)8%  lr: 0.029899  loss: 0.009271  eta: <1min   tot: 0h0m49s  (40.4%)2.2%  lr: 0.029849  loss: 0.009315  eta: <1min   tot: 0h0m49s  (40.4%)4.9%  lr: 0.029548  loss: 0.008446  eta: <1min   tot: 0h0m50s  (41.0%)6.3%  lr: 0.029397  loss: 0.008311  eta: 0h1m  tot: 0h0m50s  (41.3%)8.6%  lr: 0.029246  loss: 0.008195  eta: 0h1m  tot: 0h0m51s  (41.7%)11.3%  lr: 0.028945  loss: 0.008255  eta: 0h1m  tot: 0h0m51s  (42.3%)11.7%  lr: 0.028844  loss: 0.008432  eta: 0h1m  tot: 0h0m51s  (42.3%)14.0%  lr: 0.028693  loss: 0.008481  eta: 0h1m  tot: 0h0m52s  (42.8%)15.8%  lr: 0.028593  loss: 0.008554  eta: 0h1m  tot: 0h0m52s  (43.2%)16.7%  lr: 0.028492  loss: 0.008574  eta: 0h1m  tot: 0h0m53s  (43.3%)17.6%  lr: 0.028442  loss: 0.008532  eta: 0h1m  tot: 0h0m53s  (43.5%)20.3%  lr: 0.028291  loss: 0.008545  eta: 0h1m  tot: 0h0m54s  (44.1%)20.7%  lr: 0.028291  loss: 0.008559  eta: 0h1m  tot: 0h0m54s  (44.1%)23.0%  lr: 0.027940  loss: 0.008695  eta: 0h1m  tot: 0h0m54s  (44.6%)23.9%  lr: 0.027839  loss: 0.008711  eta: 0h1m  tot: 0h0m55s  (44.8%)24.8%  lr: 0.027739  loss: 0.008633  eta: 0h1m  tot: 0h0m55s  (45.0%)25.2%  lr: 0.027739  loss: 0.008624  eta: 0h1m  tot: 0h0m55s  (45.0%)25.7%  lr: 0.027739  loss: 0.008645  eta: 0h1m  tot: 0h0m55s  (45.1%)27.9%  lr: 0.027487  loss: 0.008720  eta: 0h1m  tot: 0h0m56s  (45.6%)30.2%  lr: 0.027236  loss: 0.008749  eta: 0h1m  tot: 0h0m56s  (46.0%)31.5%  lr: 0.027136  loss: 0.008776  eta: 0h1m  tot: 0h0m57s  (46.3%)32.0%  lr: 0.027035  loss: 0.008781  eta: 0h1m  tot: 0h0m57s  (46.4%)32.4%  lr: 0.026985  loss: 0.008777  eta: 0h1m  tot: 0h0m57s  (46.5%)32.9%  lr: 0.026985  loss: 0.008762  eta: 0h1m  tot: 0h0m57s  (46.6%)33.3%  lr: 0.026935  loss: 0.008777  eta: 0h1m  tot: 0h0m57s  (46.7%)34.2%  lr: 0.026834  loss: 0.008700  eta: 0h1m  tot: 0h0m57s  (46.8%)34.7%  lr: 0.026834  loss: 0.008705  eta: 0h1m  tot: 0h0m58s  (46.9%)35.1%  lr: 0.026784  loss: 0.008715  eta: 0h1m  tot: 0h0m58s  (47.0%)38.7%  lr: 0.026583  loss: 0.008779  eta: 0h1m  tot: 0h0m59s  (47.7%)40.1%  lr: 0.026533  loss: 0.008783  eta: 0h1m  tot: 0h0m59s  (48.0%)42.8%  lr: 0.026181  loss: 0.008809  eta: 0h1m  tot: 0h1m0s  (48.6%)43.2%  lr: 0.026080  loss: 0.008779  eta: 0h1m  tot: 0h1m0s  (48.6%)43.7%  lr: 0.026080  loss: 0.008751  eta: 0h1m  tot: 0h1m0s  (48.7%)46.8%  lr: 0.025879  loss: 0.008686  eta: 0h1m  tot: 0h1m1s  (49.4%)48.2%  lr: 0.025829  loss: 0.008724  eta: 0h1m  tot: 0h1m1s  (49.6%)49.5%  lr: 0.025628  loss: 0.008661  eta: 0h1m  tot: 0h1m2s  (49.9%)50.9%  lr: 0.025327  loss: 0.008628  eta: 0h1m  tot: 0h1m2s  (50.2%)52.2%  lr: 0.025126  loss: 0.008672  eta: 0h1m  tot: 0h1m2s  (50.4%)53.6%  lr: 0.024874  loss: 0.008720  eta: 0h1m  tot: 0h1m3s  (50.7%)54.9%  lr: 0.024774  loss: 0.008768  eta: 0h1m  tot: 0h1m3s  (51.0%)56.7%  lr: 0.024472  loss: 0.008854  eta: 0h1m  tot: 0h1m4s  (51.3%)57.2%  lr: 0.024322  loss: 0.008870  eta: 0h1m  tot: 0h1m4s  (51.4%)57.6%  lr: 0.024322  loss: 0.008860  eta: 0h1m  tot: 0h1m4s  (51.5%)58.5%  lr: 0.024271  loss: 0.008845  eta: 0h1m  tot: 0h1m4s  (51.7%)59.0%  lr: 0.024271  loss: 0.008899  eta: 0h1m  tot: 0h1m4s  (51.8%)59.9%  lr: 0.024121  loss: 0.008945  eta: 0h1m  tot: 0h1m4s  (52.0%)60.3%  lr: 0.024121  loss: 0.008930  eta: 0h1m  tot: 0h1m5s  (52.1%)63.0%  lr: 0.023819  loss: 0.008857  eta: 0h1m  tot: 0h1m5s  (52.6%)64.8%  lr: 0.023668  loss: 0.008840  eta: 0h1m  tot: 0h1m6s  (53.0%)65.3%  lr: 0.023568  loss: 0.008824  eta: 0h1m  tot: 0h1m6s  (53.1%)65.7%  lr: 0.023568  loss: 0.008832  eta: 0h1m  tot: 0h1m6s  (53.1%)66.6%  lr: 0.023568  loss: 0.008827  eta: 0h1m  tot: 0h1m6s  (53.3%)67.5%  lr: 0.023518  loss: 0.008825  eta: 0h1m  tot: 0h1m6s  (53.5%)68.0%  lr: 0.023367  loss: 0.008834  eta: 0h1m  tot: 0h1m7s  (53.6%)%  lr: 0.023216  loss: 0.008851  eta: 0h1m  tot: 0h1m7s  (53.9%)72.0%  lr: 0.022764  loss: 0.008845  eta: <1min   tot: 0h1m8s  (54.4%)75.6%  lr: 0.022312  loss: 0.008884  eta: <1min   tot: 0h1m9s  (55.1%)77.0%  lr: 0.022111  loss: 0.008864  eta: <1min   tot: 0h1m9s  (55.4%)79.2%  lr: 0.021960  loss: 0.008832  eta: <1min   tot: 0h1m10s  (55.8%)79.7%  lr: 0.021960  loss: 0.008818  eta: <1min   tot: 0h1m10s  (55.9%)80.1%  lr: 0.021910  loss: 0.008822  eta: <1min   tot: 0h1m10s  (56.0%)85.5%  lr: 0.021307  loss: 0.008798  eta: <1min   tot: 0h1m11s  (57.1%)88.2%  lr: 0.021106  loss: 0.008761  eta: <1min   tot: 0h1m12s  (57.6%)%  lr: 0.021005  loss: 0.008738  eta: <1min   tot: 0h1m12s  (57.7%)90.9%  lr: 0.020704  loss: 0.008737  eta: <1min   tot: 0h1m13s  (58.2%)91.9%  lr: 0.020603  loss: 0.008753  eta: <1min   tot: 0h1m13s  (58.4%)96.4%  lr: 0.020151  loss: 0.008752  eta: <1min   tot: 0h1m14s  (59.3%)\n",
      " ---+++                Epoch    2 Train error : 0.00854878 +++--- ���\n",
      "Training epoch 3: 0.02 0.01\n",
      "Epoch: 100.0%  lr: 0.010000  loss: 0.007337  eta: <1min   tot: 0h1m38s  (80.0%)7%  lr: 0.019749  loss: 0.006649  eta: <1min   tot: 0h1m15s  (60.5%)3.6%  lr: 0.019698  loss: 0.006592  eta: <1min   tot: 0h1m15s  (60.7%)4.5%  lr: 0.019548  loss: 0.006309  eta: <1min   tot: 0h1m16s  (60.9%)7.7%  lr: 0.019397  loss: 0.007218  eta: <1min   tot: 0h1m16s  (61.5%)8.1%  lr: 0.019246  loss: 0.007198  eta: <1min   tot: 0h1m16s  (61.6%)9.9%  lr: 0.019146  loss: 0.007518  eta: <1min   tot: 0h1m17s  (62.0%)13.1%  lr: 0.018744  loss: 0.007950  eta: <1min   tot: 0h1m18s  (62.6%)13.5%  lr: 0.018744  loss: 0.007828  eta: <1min   tot: 0h1m18s  (62.7%)14.0%  lr: 0.018744  loss: 0.007872  eta: <1min   tot: 0h1m18s  (62.8%)15.3%  lr: 0.018593  loss: 0.007890  eta: <1min   tot: 0h1m18s  (63.1%)19.4%  lr: 0.018090  loss: 0.007941  eta: <1min   tot: 0h1m19s  (63.9%)%  lr: 0.017889  loss: 0.007889  eta: <1min   tot: 0h1m19s  (64.1%)20.7%  lr: 0.017889  loss: 0.007851  eta: <1min   tot: 0h1m20s  (64.1%)23.9%  lr: 0.017487  loss: 0.007949  eta: <1min   tot: 0h1m20s  (64.8%)25.7%  lr: 0.017186  loss: 0.007880  eta: <1min   tot: 0h1m21s  (65.1%)26.1%  lr: 0.017186  loss: 0.007843  eta: <1min   tot: 0h1m21s  (65.2%)%  lr: 0.017186  loss: 0.007809  eta: <1min   tot: 0h1m21s  (65.3%)27.5%  lr: 0.017035  loss: 0.007794  eta: <1min   tot: 0h1m21s  (65.5%)27.9%  lr: 0.016985  loss: 0.007753  eta: <1min   tot: 0h1m21s  (65.6%)28.4%  lr: 0.016834  loss: 0.007757  eta: <1min   tot: 0h1m21s  (65.7%)29.7%  lr: 0.016432  loss: 0.007757  eta: <1min   tot: 0h1m22s  (65.9%)30.6%  lr: 0.016382  loss: 0.007731  eta: <1min   tot: 0h1m22s  (66.1%)31.1%  lr: 0.016281  loss: 0.007753  eta: <1min   tot: 0h1m22s  (66.2%)32.4%  lr: 0.016131  loss: 0.007710  eta: <1min   tot: 0h1m22s  (66.5%)34.2%  lr: 0.015930  loss: 0.007714  eta: <1min   tot: 0h1m23s  (66.8%)34.7%  lr: 0.015930  loss: 0.007724  eta: <1min   tot: 0h1m23s  (66.9%)35.1%  lr: 0.015829  loss: 0.007714  eta: <1min   tot: 0h1m23s  (67.0%)38.3%  lr: 0.015578  loss: 0.007674  eta: <1min   tot: 0h1m24s  (67.7%)38.7%  lr: 0.015578  loss: 0.007636  eta: <1min   tot: 0h1m24s  (67.7%)40.5%  lr: 0.015477  loss: 0.007703  eta: <1min   tot: 0h1m24s  (68.1%)45.9%  lr: 0.014975  loss: 0.007698  eta: <1min   tot: 0h1m26s  (69.2%)46.4%  lr: 0.014925  loss: 0.007683  eta: <1min   tot: 0h1m26s  (69.3%)48.6%  lr: 0.014673  loss: 0.007643  eta: <1min   tot: 0h1m26s  (69.7%)49.1%  lr: 0.014623  loss: 0.007649  eta: <1min   tot: 0h1m26s  (69.8%)49.5%  lr: 0.014623  loss: 0.007638  eta: <1min   tot: 0h1m26s  (69.9%)50.4%  lr: 0.014573  loss: 0.007629  eta: <1min   tot: 0h1m27s  (70.1%)51.3%  lr: 0.014372  loss: 0.007651  eta: <1min   tot: 0h1m27s  (70.3%)51.8%  lr: 0.014322  loss: 0.007640  eta: <1min   tot: 0h1m27s  (70.4%)52.7%  lr: 0.014271  loss: 0.007644  eta: <1min   tot: 0h1m27s  (70.5%)53.6%  lr: 0.014271  loss: 0.007618  eta: <1min   tot: 0h1m27s  (70.7%)54.0%  lr: 0.014271  loss: 0.007622  eta: <1min   tot: 0h1m28s  (70.8%)58.5%  lr: 0.013970  loss: 0.007505  eta: <1min   tot: 0h1m28s  (71.7%)60.3%  lr: 0.013668  loss: 0.007443  eta: <1min   tot: 0h1m29s  (72.1%)72.0%  lr: 0.012613  loss: 0.007431  eta: <1min   tot: 0h1m31s  (74.4%)72.5%  lr: 0.012613  loss: 0.007432  eta: <1min   tot: 0h1m31s  (74.5%)73.4%  lr: 0.012412  loss: 0.007404  eta: <1min   tot: 0h1m32s  (74.7%)78.3%  lr: 0.011809  loss: 0.007366  eta: <1min   tot: 0h1m33s  (75.7%)81.9%  lr: 0.011307  loss: 0.007365  eta: <1min   tot: 0h1m34s  (76.4%)83.3%  lr: 0.011206  loss: 0.007356  eta: <1min   tot: 0h1m34s  (76.7%)84.2%  lr: 0.011156  loss: 0.007393  eta: <1min   tot: 0h1m34s  (76.8%)85.1%  lr: 0.011005  loss: 0.007376  eta: <1min   tot: 0h1m34s  (77.0%)86.4%  lr: 0.010905  loss: 0.007387  eta: <1min   tot: 0h1m35s  (77.3%)88.7%  lr: 0.010754  loss: 0.007413  eta: <1min   tot: 0h1m35s  (77.7%)89.1%  lr: 0.010704  loss: 0.007403  eta: <1min   tot: 0h1m36s  (77.8%)92.3%  lr: 0.010352  loss: 0.007388  eta: <1min   tot: 0h1m37s  (78.5%)94.1%  lr: 0.010251  loss: 0.007354  eta: <1min   tot: 0h1m37s  (78.8%)94.6%  lr: 0.010201  loss: 0.007363  eta: <1min   tot: 0h1m37s  (78.9%)97.7%  lr: 0.010050  loss: 0.007386  eta: <1min   tot: 0h1m38s  (79.5%)\n",
      " ---+++                Epoch    3 Train error : 0.00734007 +++--- ���\n",
      "Training epoch 4: 0.01 0.01\n"
     ]
    },
    {
     "name": "stdout",
     "output_type": "stream",
     "text": [
      "Epoch: 100.0%  lr: -0.000000  loss: 0.006409  eta: <1min   tot: 0h2m1s  (100.0%)%  lr: 0.009950  loss: 0.007157  eta: <1min   tot: 0h1m38s  (80.4%)5.8%  lr: 0.009698  loss: 0.007062  eta: <1min   tot: 0h1m39s  (81.2%)7.7%  lr: 0.009598  loss: 0.007146  eta: <1min   tot: 0h1m40s  (81.5%)8.1%  lr: 0.009548  loss: 0.007114  eta: <1min   tot: 0h1m40s  (81.6%)12.6%  lr: 0.009146  loss: 0.007026  eta: <1min   tot: 0h1m41s  (82.5%)13.1%  lr: 0.009095  loss: 0.007048  eta: <1min   tot: 0h1m41s  (82.6%)15.8%  lr: 0.008894  loss: 0.006961  eta: <1min   tot: 0h1m42s  (83.2%)16.7%  lr: 0.008794  loss: 0.006955  eta: <1min   tot: 0h1m42s  (83.3%)17.6%  lr: 0.008643  loss: 0.007037  eta: <1min   tot: 0h1m42s  (83.5%)19.4%  lr: 0.008543  loss: 0.006901  eta: <1min   tot: 0h1m42s  (83.9%)20.3%  lr: 0.008442  loss: 0.006849  eta: <1min   tot: 0h1m43s  (84.1%)28.8%  lr: 0.007236  loss: 0.006975  eta: <1min   tot: 0h1m45s  (85.8%)34.7%  lr: 0.006784  loss: 0.006893  eta: <1min   tot: 0h1m46s  (86.9%)35.6%  lr: 0.006533  loss: 0.006871  eta: <1min   tot: 0h1m46s  (87.1%)36.9%  lr: 0.006332  loss: 0.006822  eta: <1min   tot: 0h1m47s  (87.4%)37.8%  lr: 0.005980  loss: 0.006769  eta: <1min   tot: 0h1m47s  (87.6%)38.3%  lr: 0.005879  loss: 0.006742  eta: <1min   tot: 0h1m47s  (87.7%)38.7%  lr: 0.005879  loss: 0.006730  eta: <1min   tot: 0h1m47s  (87.7%)39.2%  lr: 0.005779  loss: 0.006726  eta: <1min   tot: 0h1m47s  (87.8%)43.2%  lr: 0.005427  loss: 0.006777  eta: <1min   tot: 0h1m48s  (88.6%)43.7%  lr: 0.005427  loss: 0.006796  eta: <1min   tot: 0h1m48s  (88.7%)44.6%  lr: 0.005377  loss: 0.006744  eta: <1min   tot: 0h1m48s  (88.9%)45.0%  lr: 0.005327  loss: 0.006757  eta: <1min   tot: 0h1m49s  (89.0%)48.2%  lr: 0.004673  loss: 0.006690  eta: <1min   tot: 0h1m49s  (89.6%)53.6%  lr: 0.003970  loss: 0.006672  eta: <1min   tot: 0h1m51s  (90.7%)55.4%  lr: 0.003819  loss: 0.006592  eta: <1min   tot: 0h1m51s  (91.1%)55.8%  lr: 0.003819  loss: 0.006586  eta: <1min   tot: 0h1m51s  (91.2%)56.7%  lr: 0.003769  loss: 0.006580  eta: <1min   tot: 0h1m51s  (91.3%)57.2%  lr: 0.003618  loss: 0.006553  eta: <1min   tot: 0h1m51s  (91.4%)57.6%  lr: 0.003618  loss: 0.006553  eta: <1min   tot: 0h1m52s  (91.5%)59.9%  lr: 0.003417  loss: 0.006555  eta: <1min   tot: 0h1m52s  (92.0%)60.3%  lr: 0.003417  loss: 0.006549  eta: <1min   tot: 0h1m52s  (92.1%)60.8%  lr: 0.003417  loss: 0.006532  eta: <1min   tot: 0h1m52s  (92.2%)61.2%  lr: 0.003417  loss: 0.006519  eta: <1min   tot: 0h1m52s  (92.2%)61.7%  lr: 0.003417  loss: 0.006497  eta: <1min   tot: 0h1m52s  (92.3%)62.1%  lr: 0.003417  loss: 0.006525  eta: <1min   tot: 0h1m53s  (92.4%)65.3%  lr: 0.003367  loss: 0.006444  eta: <1min   tot: 0h1m53s  (93.1%)66.6%  lr: 0.003166  loss: 0.006404  eta: <1min   tot: 0h1m53s  (93.3%)67.5%  lr: 0.003116  loss: 0.006425  eta: <1min   tot: 0h1m54s  (93.5%)74.3%  lr: 0.002462  loss: 0.006419  eta: <1min   tot: 0h1m55s  (94.9%)75.2%  lr: 0.002362  loss: 0.006436  eta: <1min   tot: 0h1m55s  (95.0%)76.1%  lr: 0.002261  loss: 0.006431  eta: <1min   tot: 0h1m56s  (95.2%)81.5%  lr: 0.001709  loss: 0.006374  eta: <1min   tot: 0h1m57s  (96.3%)81.9%  lr: 0.001658  loss: 0.006366  eta: <1min   tot: 0h1m57s  (96.4%)83.3%  lr: 0.001558  loss: 0.006361  eta: <1min   tot: 0h1m57s  (96.7%)83.7%  lr: 0.001558  loss: 0.006361  eta: <1min   tot: 0h1m57s  (96.7%)86.4%  lr: 0.001055  loss: 0.006358  eta: <1min   tot: 0h1m58s  (97.3%)%  lr: 0.001005  loss: 0.006362  eta: <1min   tot: 0h1m58s  (97.4%)87.3%  lr: 0.001005  loss: 0.006386  eta: <1min   tot: 0h1m58s  (97.5%)87.8%  lr: 0.001005  loss: 0.006400  eta: <1min   tot: 0h1m58s  (97.6%)88.7%  lr: 0.000955  loss: 0.006392  eta: <1min   tot: 0h1m59s  (97.7%)%  lr: 0.000905  loss: 0.006393  eta: <1min   tot: 0h1m59s  (97.8%)90.0%  lr: 0.000804  loss: 0.006382  eta: <1min   tot: 0h1m59s  (98.0%)90.9%  lr: 0.000703  loss: 0.006379  eta: <1min   tot: 0h1m59s  (98.2%)%  lr: 0.000653  loss: 0.006371  eta: <1min   tot: 0h1m59s  (98.3%)92.8%  lr: 0.000603  loss: 0.006358  eta: <1min   tot: 0h2m0s  (98.6%)93.2%  lr: 0.000553  loss: 0.006359  eta: <1min   tot: 0h2m0s  (98.6%)93.7%  lr: 0.000553  loss: 0.006371  eta: <1min   tot: 0h2m0s  (98.7%)94.6%  lr: 0.000553  loss: 0.006394  eta: <1min   tot: 0h2m0s  (98.9%)95.0%  lr: 0.000452  loss: 0.006402  eta: <1min   tot: 0h2m0s  (99.0%)95.5%  lr: 0.000452  loss: 0.006391  eta: <1min   tot: 0h2m0s  (99.1%)95.9%  lr: 0.000352  loss: 0.006378  eta: <1min   tot: 0h2m0s  (99.2%)96.4%  lr: 0.000251  loss: 0.006378  eta: <1min   tot: 0h2m0s  (99.3%)97.3%  lr: 0.000201  loss: 0.006372  eta: <1min   tot: 0h2m1s  (99.5%)97.7%  lr: 0.000151  loss: 0.006368  eta: <1min   tot: 0h2m1s  (99.5%)98.6%  lr: -0.000000  loss: 0.006371  eta: <1min   tot: 0h2m1s  (99.7%)99.1%  lr: -0.000000  loss: 0.006402  eta: <1min   tot: 0h2m1s  (99.8%)\n",
      " ---+++                Epoch    4 Train error : 0.00652785 +++--- ���\n",
      "Saving model to file : modelSave\n",
      "Saving model in tsv format : modelSave.tsv\n"
     ]
    }
   ],
   "source": [
    "!starspace train -trainFile ./data/tagged_posts_stemmed.tsv -model modelSave -trainMode 0 -minCount 2 -verbose 1 -dim 100 -fileFormat fastText -negSearchLimit 10 -lr 0.05"
   ]
  },
  {
   "cell_type": "code",
   "execution_count": 13,
   "metadata": {},
   "outputs": [],
   "source": [
    "fh = open('modelSave.tsv', 'r')\n",
    "content = fh.read()\n",
    "content = content.strip().replace('\\t', '\\n').split('\\n')"
   ]
  },
  {
   "cell_type": "code",
   "execution_count": 46,
   "metadata": {},
   "outputs": [],
   "source": [
    "embeddings = dict()\n",
    "for n, i in enumerate(content):\n",
    "    if (not i.startswith('__label__')) & (i != ''):\n",
    "        try:\n",
    "            float(i)\n",
    "        except:\n",
    "            embeddings[i] = content[n+1:n+101]"
   ]
  }
 ],
 "metadata": {
  "kernelspec": {
   "display_name": "Python 3",
   "language": "python",
   "name": "python3"
  },
  "language_info": {
   "codemirror_mode": {
    "name": "ipython",
    "version": 3
   },
   "file_extension": ".py",
   "mimetype": "text/x-python",
   "name": "python",
   "nbconvert_exporter": "python",
   "pygments_lexer": "ipython3",
   "version": "3.6.2"
  }
 },
 "nbformat": 4,
 "nbformat_minor": 2
}
